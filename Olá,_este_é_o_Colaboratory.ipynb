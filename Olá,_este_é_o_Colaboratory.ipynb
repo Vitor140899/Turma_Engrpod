{
  "cells": [
    {
      "cell_type": "markdown",
      "metadata": {
        "id": "view-in-github",
        "colab_type": "text"
      },
      "source": [
        "<a href=\"https://colab.research.google.com/github/Vitor140899/Turma_Engrpod/blob/main/Ol%C3%A1%2C_este_%C3%A9_o_Colaboratory.ipynb\" target=\"_parent\"><img src=\"https://colab.research.google.com/assets/colab-badge.svg\" alt=\"Open In Colab\"/></a>"
      ]
    },
    {
      "cell_type": "markdown",
      "source": [
        "Aula - 04/09/2024\n"
      ],
      "metadata": {
        "id": "OAHCAlHzResF"
      }
    },
    {
      "cell_type": "code",
      "source": [
        "from math import pi\n",
        "#solictar o raio\n",
        "print(\"programa para calcular volume de esfera\")\n",
        "raio = float(input(\"Digite raio: \"))\n",
        "v = round(4/3) * pi * (raio**3)\n",
        "print(\"volume da esfera = \", v)"
      ],
      "metadata": {
        "id": "PmzsMJd9ReXM",
        "outputId": "fd1c37fc-58b4-4655-e2c5-cf101bdcc063",
        "colab": {
          "base_uri": "https://localhost:8080/"
        }
      },
      "execution_count": 15,
      "outputs": [
        {
          "output_type": "stream",
          "name": "stdout",
          "text": [
            "programa para calcular volume de esfera\n",
            "Digite raio: 8\n",
            "volume da esfera =  1608.495438637974\n"
          ]
        }
      ]
    },
    {
      "cell_type": "code",
      "source": [
        "import math\n",
        "#solicita ao usuario que insira o raio da esfera\n",
        "raio = float(input(\"Digite o raio da esfera em unidades de comprimento: \")\n",
        "volume = (4/3) * math.pi * (raio**3)\n",
        "print(f\"O volume da esfera com o {raio} é {volume:2f} unidades cubicas.\")"
      ],
      "metadata": {
        "id": "7MN4gBrIZGop",
        "outputId": "131f68c7-110b-4453-8d16-6d647c0e3fd1",
        "colab": {
          "base_uri": "https://localhost:8080/",
          "height": 106
        }
      },
      "execution_count": 23,
      "outputs": [
        {
          "output_type": "error",
          "ename": "SyntaxError",
          "evalue": "'(' was never closed (<ipython-input-23-d3f69cc3596c>, line 3)",
          "traceback": [
            "\u001b[0;36m  File \u001b[0;32m\"<ipython-input-23-d3f69cc3596c>\"\u001b[0;36m, line \u001b[0;32m3\u001b[0m\n\u001b[0;31m    raio = float(input(\"Digite o raio da esfera em unidades de comprimento: \")\u001b[0m\n\u001b[0m                ^\u001b[0m\n\u001b[0;31mSyntaxError\u001b[0m\u001b[0;31m:\u001b[0m '(' was never closed\n"
          ]
        }
      ]
    }
  ],
  "metadata": {
    "colab": {
      "name": "Olá, este é o Colaboratory",
      "toc_visible": true,
      "provenance": [],
      "include_colab_link": true
    },
    "kernelspec": {
      "display_name": "Python 3",
      "name": "python3"
    }
  },
  "nbformat": 4,
  "nbformat_minor": 0
}